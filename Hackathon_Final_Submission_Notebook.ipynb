{
 "cells": [
  {
   "cell_type": "markdown",
   "id": "2464a51f",
   "metadata": {},
   "source": [
    "# Advanced Classification Hackathon Challenge\n",
    "\n",
    "© Explore Data Science Academy\n",
    "\n",
    "## Honour Code\n",
    "\n",
    "I **Boitemogelo Tagane**, confirm - by submitting this document - that the solutions in this notebook are a result of my own work and that I abide by the EDSA honour code (https://drive.google.com/file/d/1QDCjGZJ8-FmJE3bZdIQNwnJyQKPhHZBn/view?usp=sharing)."
   ]
  },
  {
   "cell_type": "markdown",
   "id": "76077e70",
   "metadata": {},
   "source": [
    "## 1. Introduction"
   ]
  },
  {
   "cell_type": "markdown",
   "id": "fcca0471",
   "metadata": {},
   "source": [
    "South Africa, also known as the Rainbow Nation, is one of the most diverse countries in the world, full of rich culture and a variety of unique and beautiful ethnic groups. It has a well common known history of seperation and indifference, where various ethnic groups were viewed as inferior to others. However, these ethnic groups saw themselves as equals to every other ethnic group and race, and fought for the democracy and equality that they deserved. The birth of this democracy resulted in a state where all races and colours are accepted for who they are and not what they look like. This democracy did not only accept people of all colour and ethnicity, but sanctioned this equality through the adoption and officialising of the languages of its residents. "
   ]
  },
  {
   "cell_type": "markdown",
   "id": "af5f8509",
   "metadata": {},
   "source": [
    "## 2. Problem Statement"
   ]
  },
  {
   "cell_type": "markdown",
   "id": "573c1d84",
   "metadata": {},
   "source": [
    "To celebrate the democracy, I have been tasked with the development of a model that can be able to take text which is in any of South Africa's 11 Official languages and identify which language the text is in."
   ]
  },
  {
   "cell_type": "markdown",
   "id": "3d4f039a",
   "metadata": {},
   "source": [
    "## 3. Importing Packages"
   ]
  },
  {
   "cell_type": "code",
   "execution_count": 229,
   "id": "8e4d4d19",
   "metadata": {},
   "outputs": [],
   "source": [
    "#Importing packages\n",
    "import pandas as pd\n",
    "import numpy as np\n",
    "import matplotlib.pyplot as plt\n",
    "import seaborn as sns\n",
    "\n",
    "#Importing packages for data cleaning and feature engineering\n",
    "import string\n",
    "import re\n",
    "\n",
    "# Model Evaluation Packages\n",
    "from sklearn.metrics import accuracy_score, precision_score, recall_score\n",
    "from sklearn.metrics import confusion_matrix, classification_report, f1_score\n",
    "from sklearn.metrics import make_scorer\n",
    "import time\n",
    "\n",
    "\n",
    "# Packages for training models\n",
    "from sklearn.pipeline import Pipeline\n",
    "from sklearn.linear_model import LogisticRegression\n",
    "from sklearn.naive_bayes import MultinomialNB\n",
    "from sklearn.svm import LinearSVC, SVC\n",
    "from sklearn.model_selection import train_test_split\n",
    "from sklearn import metrics\n",
    "from sklearn.feature_extraction.text import TfidfVectorizer\n",
    "from sklearn.ensemble import RandomForestClassifier\n",
    "from sklearn.tree import DecisionTreeClassifier\n"
   ]
  },
  {
   "cell_type": "markdown",
   "id": "06a8566c",
   "metadata": {},
   "source": [
    "### Brief Analysis"
   ]
  },
  {
   "cell_type": "markdown",
   "id": "9f433b77",
   "metadata": {},
   "source": [
    "In this section we have a cell that displays all the necessary modules, packages and libraries that are all fundamental throughout the various steps of this document. These imports and their capabilities will assist the Data Scientist with his/her end goal, which is to create a reliable machine learning model."
   ]
  },
  {
   "cell_type": "markdown",
   "id": "1af19237",
   "metadata": {},
   "source": [
    "## 4. Loading the Data"
   ]
  },
  {
   "cell_type": "code",
   "execution_count": 230,
   "id": "2d85360c",
   "metadata": {},
   "outputs": [],
   "source": [
    "# Loading the train and test dataset \n",
    "train = pd.read_csv(\"train_set.csv\")\n",
    "test = pd.read_csv(\"test_set.csv\")"
   ]
  },
  {
   "cell_type": "markdown",
   "id": "8e99671a",
   "metadata": {},
   "source": [
    "### Brief Analysis"
   ]
  },
  {
   "cell_type": "markdown",
   "id": "9b107a23",
   "metadata": {},
   "source": [
    "This section inloves loading the data that will be used to train and test the models that have been built by the Data Scientist."
   ]
  },
  {
   "cell_type": "markdown",
   "id": "1e5bea28",
   "metadata": {},
   "source": [
    "## Exploratory Data Analysis"
   ]
  },
  {
   "cell_type": "code",
   "execution_count": 232,
   "id": "5e4a2c6c",
   "metadata": {},
   "outputs": [
    {
     "data": {
      "text/plain": [
       "(33000, 2)"
      ]
     },
     "execution_count": 232,
     "metadata": {},
     "output_type": "execute_result"
    }
   ],
   "source": [
    "train.shape"
   ]
  },
  {
   "cell_type": "code",
   "execution_count": 188,
   "id": "760f304e",
   "metadata": {},
   "outputs": [
    {
     "data": {
      "text/html": [
       "<div>\n",
       "<style scoped>\n",
       "    .dataframe tbody tr th:only-of-type {\n",
       "        vertical-align: middle;\n",
       "    }\n",
       "\n",
       "    .dataframe tbody tr th {\n",
       "        vertical-align: top;\n",
       "    }\n",
       "\n",
       "    .dataframe thead th {\n",
       "        text-align: right;\n",
       "    }\n",
       "</style>\n",
       "<table border=\"1\" class=\"dataframe\">\n",
       "  <thead>\n",
       "    <tr style=\"text-align: right;\">\n",
       "      <th></th>\n",
       "      <th>lang_id</th>\n",
       "      <th>text</th>\n",
       "    </tr>\n",
       "  </thead>\n",
       "  <tbody>\n",
       "    <tr>\n",
       "      <th>0</th>\n",
       "      <td>xho</td>\n",
       "      <td>umgaqo-siseko wenza amalungiselelo kumaziko ax...</td>\n",
       "    </tr>\n",
       "    <tr>\n",
       "      <th>1</th>\n",
       "      <td>xho</td>\n",
       "      <td>i-dha iya kuba nobulumko bokubeka umsebenzi na...</td>\n",
       "    </tr>\n",
       "    <tr>\n",
       "      <th>2</th>\n",
       "      <td>eng</td>\n",
       "      <td>the province of kwazulu-natal department of tr...</td>\n",
       "    </tr>\n",
       "    <tr>\n",
       "      <th>3</th>\n",
       "      <td>nso</td>\n",
       "      <td>o netefatša gore o ba file dilo ka moka tše le...</td>\n",
       "    </tr>\n",
       "    <tr>\n",
       "      <th>4</th>\n",
       "      <td>ven</td>\n",
       "      <td>khomishini ya ndinganyiso ya mbeu yo ewa maana...</td>\n",
       "    </tr>\n",
       "  </tbody>\n",
       "</table>\n",
       "</div>"
      ],
      "text/plain": [
       "  lang_id                                               text\n",
       "0     xho  umgaqo-siseko wenza amalungiselelo kumaziko ax...\n",
       "1     xho  i-dha iya kuba nobulumko bokubeka umsebenzi na...\n",
       "2     eng  the province of kwazulu-natal department of tr...\n",
       "3     nso  o netefatša gore o ba file dilo ka moka tše le...\n",
       "4     ven  khomishini ya ndinganyiso ya mbeu yo ewa maana..."
      ]
     },
     "execution_count": 188,
     "metadata": {},
     "output_type": "execute_result"
    }
   ],
   "source": [
    "#Looking at the data by showing first 5 rows in train data\n",
    "train.head()"
   ]
  },
  {
   "cell_type": "code",
   "execution_count": 189,
   "id": "15082377",
   "metadata": {},
   "outputs": [
    {
     "data": {
      "text/html": [
       "<div>\n",
       "<style scoped>\n",
       "    .dataframe tbody tr th:only-of-type {\n",
       "        vertical-align: middle;\n",
       "    }\n",
       "\n",
       "    .dataframe tbody tr th {\n",
       "        vertical-align: top;\n",
       "    }\n",
       "\n",
       "    .dataframe thead th {\n",
       "        text-align: right;\n",
       "    }\n",
       "</style>\n",
       "<table border=\"1\" class=\"dataframe\">\n",
       "  <thead>\n",
       "    <tr style=\"text-align: right;\">\n",
       "      <th></th>\n",
       "      <th>index</th>\n",
       "      <th>text</th>\n",
       "    </tr>\n",
       "  </thead>\n",
       "  <tbody>\n",
       "    <tr>\n",
       "      <th>0</th>\n",
       "      <td>1</td>\n",
       "      <td>Mmasepala, fa maemo a a kgethegileng a letlele...</td>\n",
       "    </tr>\n",
       "    <tr>\n",
       "      <th>1</th>\n",
       "      <td>2</td>\n",
       "      <td>Uzakwaziswa ngokufaneleko nakungafuneka eminye...</td>\n",
       "    </tr>\n",
       "    <tr>\n",
       "      <th>2</th>\n",
       "      <td>3</td>\n",
       "      <td>Tshivhumbeo tshi fana na ngano dza vhathu.</td>\n",
       "    </tr>\n",
       "    <tr>\n",
       "      <th>3</th>\n",
       "      <td>4</td>\n",
       "      <td>Kube inja nelikati betingevakala kutsi titsini...</td>\n",
       "    </tr>\n",
       "    <tr>\n",
       "      <th>4</th>\n",
       "      <td>5</td>\n",
       "      <td>Winste op buitelandse valuta.</td>\n",
       "    </tr>\n",
       "  </tbody>\n",
       "</table>\n",
       "</div>"
      ],
      "text/plain": [
       "   index                                               text\n",
       "0      1  Mmasepala, fa maemo a a kgethegileng a letlele...\n",
       "1      2  Uzakwaziswa ngokufaneleko nakungafuneka eminye...\n",
       "2      3         Tshivhumbeo tshi fana na ngano dza vhathu.\n",
       "3      4  Kube inja nelikati betingevakala kutsi titsini...\n",
       "4      5                      Winste op buitelandse valuta."
      ]
     },
     "execution_count": 189,
     "metadata": {},
     "output_type": "execute_result"
    }
   ],
   "source": [
    "#Looking at the data by showing first 5 rows in test data\n",
    "test.head()"
   ]
  },
  {
   "cell_type": "code",
   "execution_count": 190,
   "id": "f7f235cf",
   "metadata": {},
   "outputs": [
    {
     "name": "stdout",
     "output_type": "stream",
     "text": [
      "<class 'pandas.core.frame.DataFrame'>\n",
      "RangeIndex: 33000 entries, 0 to 32999\n",
      "Data columns (total 2 columns):\n",
      " #   Column   Non-Null Count  Dtype \n",
      "---  ------   --------------  ----- \n",
      " 0   lang_id  33000 non-null  object\n",
      " 1   text     33000 non-null  object\n",
      "dtypes: object(2)\n",
      "memory usage: 515.8+ KB\n"
     ]
    }
   ],
   "source": [
    "#Looking at the data types in train data\n",
    "train.info()"
   ]
  },
  {
   "cell_type": "code",
   "execution_count": 191,
   "id": "4bfd36c7",
   "metadata": {},
   "outputs": [
    {
     "data": {
      "text/plain": [
       "lang_id    0\n",
       "text       0\n",
       "dtype: int64"
      ]
     },
     "execution_count": 191,
     "metadata": {},
     "output_type": "execute_result"
    }
   ],
   "source": [
    "#Checking for null values in train data\n",
    "train.isnull().sum()"
   ]
  },
  {
   "cell_type": "code",
   "execution_count": 192,
   "id": "2557f1ee",
   "metadata": {},
   "outputs": [
    {
     "data": {
      "image/png": "[encoded data removed]",
      "text/plain": [
       "<Figure size 640x480 with 1 Axes>"
      ]
     },
     "metadata": {},
     "output_type": "display_data"
    }
   ],
   "source": [
    "#Checking the values counts in the train dataset\n",
    "train['lang_id'].value_counts().plot(kind = 'bar')\n",
    "plt.show()"
   ]
  },
  {
   "cell_type": "markdown",
   "id": "0c83b483",
   "metadata": {},
   "source": [
    "### Brief Analysis"
   ]
  },
  {
   "cell_type": "markdown",
   "id": "a050b682",
   "metadata": {},
   "source": [
    "In this section we observe and explore the data. As we can see the data has two colums, which are **lang_id** and **text**. However, the **lang_id** column is not in the test dataset. Furthermore, our data types are **objects**. In addition, our data does not contain any null values. Lastly, with the visual above, we can conclude that the values or rows of the data are evenly distributed among the types of **land_id**. The languages and their id's are as follows:\n",
    "- **xho** : IsiXhosa\n",
    "- **eng** : English\n",
    "- **nso** : Northern Sotho\n",
    "- **ven** : TshiVenda\n",
    "- **tsn** : SeTswana\n",
    "- **nbl** : IsiNdebele\n",
    "- **zul** : IsiZulu\n",
    "- **ssw** : IsiSwati\n",
    "- **tso** : XiTsonga\n",
    "- **sot** : Southern Sotho\n",
    "- **afr** : Afrikaans"
   ]
  },
  {
   "cell_type": "markdown",
   "id": "61e4b8e8",
   "metadata": {},
   "source": [
    "## 5. Data Cleaning"
   ]
  },
  {
   "cell_type": "code",
   "execution_count": 195,
   "id": "f6c3a8c3",
   "metadata": {},
   "outputs": [],
   "source": [
    "# Create an empty list to store the processed data\n",
    "df_train = []\n",
    "\n",
    "# Iterate over each row in the 'train' DataFrame\n",
    "for i, row in train.iterrows():\n",
    "    \n",
    "    # Split the 'text' column using the '|||' delimiter\n",
    "    for post in row['text'].split('|||'):\n",
    "        \n",
    "        # Append a new list with 'lang_id' and the split 'text' to the df_train list\n",
    "        df_train.append([row['lang_id'], post])\n",
    "\n",
    "# Create a new DataFrame from the processed data with columns 'lang_id' and 'text'\n",
    "df_train = pd.DataFrame(df_train, columns=['lang_id', 'text'])"
   ]
  },
  {
   "cell_type": "code",
   "execution_count": 197,
   "id": "953fea1b",
   "metadata": {},
   "outputs": [],
   "source": [
    "# Define a function named 'remove_html_tags' that takes 'text' as a parameter\n",
    "def remove_html_tags(text):\n",
    "    \"\"\"Remove HTML tags from the text.\"\"\"\n",
    "    \n",
    "    # Use the re.sub function to replace HTML tags with a space in the 'text'\n",
    "    clean_text = re.sub('<.*?>', ' ', text)\n",
    "    \n",
    "    # Return the cleaned text without HTML tags\n",
    "    return clean_text"
   ]
  },
  {
   "cell_type": "code",
   "execution_count": 198,
   "id": "f08cf08a",
   "metadata": {},
   "outputs": [],
   "source": [
    "#Applying the function to the data\n",
    "df_train['text'] = df_train['text'].apply(remove_html_tags)"
   ]
  },
  {
   "cell_type": "code",
   "execution_count": 199,
   "id": "1be85eb0",
   "metadata": {},
   "outputs": [],
   "source": [
    "# Define a function named 'remove_newline_chars' that takes 'text' as a parameter\n",
    "def remove_newline_chars(text):\n",
    "    \"\"\"Remove newline characters from the text.\"\"\"\n",
    "    \n",
    "    # Use the re.sub function to replace newline characters with a space in the 'text'\n",
    "    clean_text = re.sub(\"\\n\", \" \", text)\n",
    "    \n",
    "    # Return the cleaned text without newline characters\n",
    "    return clean_text"
   ]
  },
  {
   "cell_type": "code",
   "execution_count": 200,
   "id": "d65aee54",
   "metadata": {},
   "outputs": [],
   "source": [
    "#Applying the function to the data\n",
    "df_train['text'] = df_train['text'].apply(remove_newline_chars)"
   ]
  },
  {
   "cell_type": "code",
   "execution_count": 201,
   "id": "f998a034",
   "metadata": {},
   "outputs": [],
   "source": [
    "# Define a function named 'remove_numbers' that takes 'text' as a parameter\n",
    "def remove_numbers(text):\n",
    "    \"\"\"Remove numbers from the text.\"\"\"\n",
    "    \n",
    "    # Use the re.sub function to replace sequences of digits with a space in the 'text'\n",
    "    clean_text = re.sub(r'\\d+', ' ', text)\n",
    "    \n",
    "    # Return the cleaned text without numbers\n",
    "    return clean_text"
   ]
  },
  {
   "cell_type": "code",
   "execution_count": 202,
   "id": "235667e0",
   "metadata": {},
   "outputs": [],
   "source": [
    "#Applying the function to the data\n",
    "df_train['text'] = df_train['text'].apply(remove_numbers)"
   ]
  },
  {
   "cell_type": "code",
   "execution_count": 203,
   "id": "49ac002c",
   "metadata": {},
   "outputs": [],
   "source": [
    "# Define a function named 'remove_extra_spaces' that takes 'text' as a parameter\n",
    "def remove_extra_spaces(text):\n",
    "    \"\"\"Remove extra spaces from the text.\"\"\"\n",
    "    \n",
    "    # Use the 'split()' method to break the text into words, and 'join()' to reconstruct it with single spaces\n",
    "    clean_text = ' '.join(text.split())\n",
    "    \n",
    "    # Return the cleaned text without extra spaces\n",
    "    return clean_text"
   ]
  },
  {
   "cell_type": "code",
   "execution_count": 204,
   "id": "d78c6217",
   "metadata": {},
   "outputs": [],
   "source": [
    "#Applying the function to the data\n",
    "df_train['text'] = df_train['text'].apply(remove_extra_spaces)"
   ]
  },
  {
   "cell_type": "code",
   "execution_count": 205,
   "id": "5429620b",
   "metadata": {},
   "outputs": [],
   "source": [
    "# Define a function named 'convert_to_lowercase' that takes 'text' as a parameter\n",
    "def convert_to_lowercase(text):\n",
    "    \"\"\"Convert the text to lowercase.\"\"\"\n",
    "    \n",
    "    # Use the 'lower()' method to convert all characters in 'text' to lowercase\n",
    "    clean_text = text.lower()\n",
    "    \n",
    "    # Return the cleaned text in lowercase\n",
    "    return clean_text"
   ]
  },
  {
   "cell_type": "code",
   "execution_count": 206,
   "id": "3111e9c1",
   "metadata": {},
   "outputs": [],
   "source": [
    "#Applying the function to the data\n",
    "df_train['text'] = df_train['text'].apply(convert_to_lowercase)"
   ]
  },
  {
   "cell_type": "code",
   "execution_count": 207,
   "id": "9a6991cc",
   "metadata": {},
   "outputs": [],
   "source": [
    "# Replace \".txt\" with \" text file\" in the 'text' column of the DataFrame 'df_train'\n",
    "df_train[\"text\"] = df_train[\"text\"].str.replace(\".txt\", \" text file\")"
   ]
  },
  {
   "cell_type": "markdown",
   "id": "ceba6590",
   "metadata": {},
   "source": [
    "### Brief Analysis"
   ]
  },
  {
   "cell_type": "markdown",
   "id": "36bf64b4",
   "metadata": {},
   "source": [
    "In this section we have undergone various steps to clean the provided data. We created varioius functions that have their own roles in ensuring that the data that we will use will certify the reliability of our model once we train it. "
   ]
  },
  {
   "cell_type": "markdown",
   "id": "1008ebdd",
   "metadata": {},
   "source": [
    "## 6. Feature Engineering"
   ]
  },
  {
   "cell_type": "code",
   "execution_count": 208,
   "id": "864cacbc",
   "metadata": {},
   "outputs": [],
   "source": [
    "# Assign the 'text' column to the variable X\n",
    "X = df_train['text']\n",
    "\n",
    "# Assign the 'lang_id' column to the variable y\n",
    "y = df_train['lang_id']"
   ]
  },
  {
   "cell_type": "code",
   "execution_count": 209,
   "id": "e806bc65",
   "metadata": {},
   "outputs": [],
   "source": [
    "# Split the data into training and validation set\n",
    "X_train, X_val, y_train, y_val = train_test_split(X, y, test_size=0.10)"
   ]
  },
  {
   "cell_type": "markdown",
   "id": "4e53ce0f",
   "metadata": {},
   "source": [
    "## 7. Modeling and Model Performance"
   ]
  },
  {
   "cell_type": "markdown",
   "id": "8b6a8075",
   "metadata": {},
   "source": [
    "### Logistic Regression"
   ]
  },
  {
   "cell_type": "code",
   "execution_count": 210,
   "id": "1574fd34",
   "metadata": {},
   "outputs": [],
   "source": []
  },
  {
   "cell_type": "code",
   "execution_count": 211,
   "id": "7c25f87d",
   "metadata": {},
   "outputs": [],
   "source": [
    "# Logistic Regression Model Initialization\n",
    "lr = LogisticRegression(random_state=42, multi_class='ovr', n_jobs=1, C=1e5, max_iter=4000)\n",
    "\n",
    "# Pipeline Initialization\n",
    "clf_lr = Pipeline([('tfidf', TfidfVectorizer(min_df=1, max_df=0.9, ngram_range=(1, 2))), ('clf', lr)])\n",
    "\n",
    "# Fitting the Model\n",
    "start_time = time.time()\n",
    "clf_lr.fit(X_train, y_train)\n",
    "run_time = time.time() - start_time\n",
    "\n",
    "# Making Predictions\n",
    "lr_pred = clf_lr.predict(X_val)"
   ]
  },
  {
   "cell_type": "code",
   "execution_count": 212,
   "id": "9737e421",
   "metadata": {},
   "outputs": [
    {
     "name": "stdout",
     "output_type": "stream",
     "text": [
      "F1 Macro:\n",
      "0.9981856238480898\n",
      "F1 Accuracy:\n",
      "0.9981818181818182\n",
      "F1 Weighted:\n",
      "0.9981805714944185\n",
      "Executuion Time:\n",
      "141.82156491279602\n"
     ]
    }
   ],
   "source": [
    "#Lr metrics\n",
    "F1_Macro_Lr=metrics.f1_score(y_val,lr_pred,average='macro')\n",
    "print(\"F1 Macro:\")\n",
    "print(F1_Macro_Lr)\n",
    "F1_Accuracy_Lr=metrics.f1_score(y_val, lr_pred,average='micro')\n",
    "print(\"F1 Accuracy:\")\n",
    "print(F1_Accuracy_Lr)\n",
    "F1_Weighted_Lr=metrics.f1_score(y_val,lr_pred,average='weighted')\n",
    "print(\"F1 Weighted:\")\n",
    "print(F1_Weighted_Lr)\n",
    "Execution_Time_Lr=run_time\n",
    "print(\"Executuion Time:\")\n",
    "print(Execution_Time_Lr)"
   ]
  },
  {
   "cell_type": "markdown",
   "id": "80c3af19",
   "metadata": {},
   "source": [
    "### Decision Tree"
   ]
  },
  {
   "cell_type": "code",
   "execution_count": 215,
   "id": "ca00d3bf",
   "metadata": {},
   "outputs": [],
   "source": [
    "\n",
    "# Decision Tree Model Initialization\n",
    "dt = DecisionTreeClassifier()\n",
    "\n",
    "# Pipeline Initialization\n",
    "clf_dt = Pipeline([('tfidf', TfidfVectorizer(min_df=1, max_df=0.9, ngram_range=(1, 2))), ('clf', dt)])\n",
    "\n",
    "# Fitting the Model\n",
    "start_time = time.time()\n",
    "clf_dt.fit(X_train, y_train)\n",
    "run_time = time.time() - start_time\n",
    "\n",
    "# Making Predictions\n",
    "dt_pred = clf_dt.predict(X_val)"
   ]
  },
  {
   "cell_type": "code",
   "execution_count": 216,
   "id": "f484c554",
   "metadata": {},
   "outputs": [
    {
     "name": "stdout",
     "output_type": "stream",
     "text": [
      "F1 Macro:\n",
      "0.9476014297577803\n",
      "F1 Accuracy:\n",
      "0.9478787878787879\n",
      "F1 Weighted:\n",
      "0.9477315191868815\n",
      "Executuion Time:\n",
      "58.22195625305176\n"
     ]
    }
   ],
   "source": [
    "F1_Macro_dt=metrics.f1_score(y_val,dt_pred,average='macro')\n",
    "print(\"F1 Macro:\")\n",
    "print(F1_Macro_dt)\n",
    "F1_Accuracy_dt=metrics.f1_score(y_val, dt_pred,average='micro')\n",
    "print(\"F1 Accuracy:\")\n",
    "print(F1_Accuracy_dt)\n",
    "F1_Weighted_dt=metrics.f1_score(y_val,dt_pred,average='weighted')\n",
    "print(\"F1 Weighted:\")\n",
    "print(F1_Weighted_dt)\n",
    "Execution_Time_dt=run_time\n",
    "print(\"Executuion Time:\")\n",
    "print(Execution_Time_dt)"
   ]
  },
  {
   "cell_type": "markdown",
   "id": "66a43ebf",
   "metadata": {},
   "source": [
    "### Support Vector Machine"
   ]
  },
  {
   "cell_type": "code",
   "execution_count": 218,
   "id": "5c6b9ac3",
   "metadata": {},
   "outputs": [],
   "source": [
    "# Linear Support Vector Machine Initialization\n",
    "svm = LinearSVC(random_state=42, max_iter=4000)\n",
    "\n",
    "# Pipeline Initialization\n",
    "clf_svm = Pipeline([('tfidf', TfidfVectorizer(min_df=1, max_df=0.9, ngram_range=(1, 2))), ('clf', svm)])\n",
    "\n",
    "# Fitting the Model\n",
    "start_time = time.time()\n",
    "clf_svm.fit(X_train, y_train)\n",
    "run_time = time.time() - start_time\n",
    "\n",
    "# Making Predictions\n",
    "svm_pred = clf_svm.predict(X_val)"
   ]
  },
  {
   "cell_type": "code",
   "execution_count": 219,
   "id": "0e5c17b9",
   "metadata": {},
   "outputs": [
    {
     "name": "stdout",
     "output_type": "stream",
     "text": [
      "F1 Macro:\n",
      "0.9981856238480898\n",
      "F1 Accuracy:\n",
      "0.9981818181818182\n",
      "F1 Weighted:\n",
      "0.9981805714944185\n",
      "Executuion Time:\n",
      "7.150238513946533\n"
     ]
    }
   ],
   "source": [
    "F1_Macro_svm=metrics.f1_score(y_val,svm_pred,average='macro')\n",
    "print(\"F1 Macro:\")\n",
    "print(F1_Macro_svm)\n",
    "F1_Accuracy_svm=metrics.f1_score(y_val, svm_pred,average='micro')\n",
    "print(\"F1 Accuracy:\")\n",
    "print(F1_Accuracy_svm)\n",
    "F1_Weighted_svm=metrics.f1_score(y_val,svm_pred,average='weighted')\n",
    "print(\"F1 Weighted:\")\n",
    "print(F1_Weighted_svm)\n",
    "Execution_Time_svm=run_time\n",
    "print(\"Executuion Time:\")\n",
    "print(Execution_Time_svm)"
   ]
  },
  {
   "cell_type": "markdown",
   "id": "085d234b",
   "metadata": {},
   "source": [
    "### Random Forest Classifier"
   ]
  },
  {
   "cell_type": "code",
   "execution_count": 221,
   "id": "7aa0cb39",
   "metadata": {},
   "outputs": [],
   "source": [
    "\n",
    "# Random Forest Classifier Initialization\n",
    "rf = RandomForestClassifier(random_state=42, n_jobs=1, n_estimators=100)\n",
    "\n",
    "# Pipeline Initialization\n",
    "clf_rf = Pipeline([('tfidf', TfidfVectorizer(min_df=1, max_df=0.9, ngram_range=(1, 2))), ('clf', rf)])\n",
    "\n",
    "# Fitting the Model\n",
    "start_time = time.time()\n",
    "clf_rf.fit(X_train, y_train)\n",
    "run_time = time.time() - start_time\n",
    "\n",
    "# Making Predictions\n",
    "rf_pred = clf_rf.predict(X_val)"
   ]
  },
  {
   "cell_type": "code",
   "execution_count": 222,
   "id": "9d3e6e4a",
   "metadata": {},
   "outputs": [
    {
     "name": "stdout",
     "output_type": "stream",
     "text": [
      "F1 Macro:\n",
      "0.991779410615313\n",
      "F1 Accuracy:\n",
      "0.9918181818181818\n",
      "F1 Weighted:\n",
      "0.9918039253354913\n",
      "Executuion Time:\n",
      "644.7235028743744\n"
     ]
    }
   ],
   "source": [
    "F1_Macro_rf=metrics.f1_score(y_val,rf_pred,average='macro')\n",
    "print(\"F1 Macro:\")\n",
    "print(F1_Macro_rf)\n",
    "F1_Accuracy_rf=metrics.f1_score(y_val, rf_pred,average='micro')\n",
    "print(\"F1 Accuracy:\")\n",
    "print(F1_Accuracy_rf)\n",
    "F1_Weighted_rf=metrics.f1_score(y_val,rf_pred,average='weighted')\n",
    "print(\"F1 Weighted:\")\n",
    "print(F1_Weighted_rf)\n",
    "Execution_Time_rf=run_time\n",
    "print(\"Executuion Time:\")\n",
    "print(Execution_Time_rf)"
   ]
  },
  {
   "cell_type": "markdown",
   "id": "75ccb79a",
   "metadata": {},
   "source": [
    "### Naive Bayes Model"
   ]
  },
  {
   "cell_type": "code",
   "execution_count": 224,
   "id": "5a1fe955",
   "metadata": {},
   "outputs": [],
   "source": [
    "from sklearn.naive_bayes import MultinomialNB\n",
    "\n",
    "# Naive Bayes Model Initialization\n",
    "nb = MultinomialNB()\n",
    "\n",
    "# Pipeline Initialization\n",
    "clf_nb = Pipeline([('tfidf', TfidfVectorizer(min_df=1, max_df=0.9, ngram_range=(1, 2))), ('clf', nb)])\n",
    "\n",
    "# Fitting the Model\n",
    "start_time = time.time()\n",
    "clf_nb.fit(X_train, y_train)\n",
    "run_time = time.time() - start_time\n",
    "\n",
    "# Making Predictions\n",
    "nb_pred = clf_nb.predict(X_val)"
   ]
  },
  {
   "cell_type": "code",
   "execution_count": 225,
   "id": "8ab9f4b4",
   "metadata": {},
   "outputs": [
    {
     "name": "stdout",
     "output_type": "stream",
     "text": [
      "F1 Macro:\n",
      "0.9987898851305758\n",
      "F1 Accuracy:\n",
      "0.9987878787878788\n",
      "F1 Weighted:\n",
      "0.9987882918053705\n",
      "Executuion Time:\n",
      "4.054364919662476\n"
     ]
    }
   ],
   "source": [
    "F1_Macro_nb=metrics.f1_score(y_val,nb_pred,average='macro')\n",
    "print(\"F1 Macro:\")\n",
    "print(F1_Macro_nb)\n",
    "F1_Accuracy_nb=metrics.f1_score(y_val, nb_pred,average='micro')\n",
    "print(\"F1 Accuracy:\")\n",
    "print(F1_Accuracy_nb)\n",
    "F1_Weighted_nb=metrics.f1_score(y_val,nb_pred,average='weighted')\n",
    "print(\"F1 Weighted:\")\n",
    "print(F1_Weighted_nb)\n",
    "Execution_Time_nb=run_time\n",
    "print(\"Executuion Time:\")\n",
    "print(Execution_Time_nb)"
   ]
  },
  {
   "cell_type": "markdown",
   "id": "b689d126",
   "metadata": {},
   "source": [
    "### Brief Analysis"
   ]
  },
  {
   "cell_type": "markdown",
   "id": "f66499e6",
   "metadata": {},
   "source": [
    "We have covered the 3 sections, which are **Feature Engineering**, **Model Building** and **Model Evaluation**. We have provided also provided 5 different models that have been tested. As you can see above, the best performing model is the **Naive Bayes Model**."
   ]
  },
  {
   "cell_type": "markdown",
   "id": "9f6790db",
   "metadata": {},
   "source": [
    "## Conclusion"
   ]
  },
  {
   "cell_type": "markdown",
   "id": "ac325243",
   "metadata": {},
   "source": [
    "We have successfully explored the data and conducted data cleaning as well. With data cleaning we have prepared the data to be used for modelling. Models were built and trained using our train data set. Once we trained the models, we tested them using our test data to see how they perform, and thus confirming their relibality with performance metrics"
   ]
  },
  {
   "cell_type": "code",
   "execution_count": null,
   "id": "d3ea1dd9",
   "metadata": {},
   "outputs": [],
   "source": []
  }
 ],
 "metadata": {
  "kernelspec": {
   "display_name": "Python 3 (ipykernel)",
   "language": "python",
   "name": "python3"
  },
  "language_info": {
   "codemirror_mode": {
    "name": "ipython",
    "version": 3
   },
   "file_extension": ".py",
   "mimetype": "text/x-python",
   "name": "python",
   "nbconvert_exporter": "python",
   "pygments_lexer": "ipython3",
   "version": "3.11.3"
  }
 },
 "nbformat": 4,
 "nbformat_minor": 5
}
